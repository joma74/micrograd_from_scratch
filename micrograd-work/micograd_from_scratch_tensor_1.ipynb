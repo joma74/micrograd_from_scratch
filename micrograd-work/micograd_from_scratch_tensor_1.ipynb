{
 "cells": [
  {
   "cell_type": "code",
   "execution_count": 1,
   "id": "7932766b-9a8d-466c-b779-916ae5064ade",
   "metadata": {},
   "outputs": [],
   "source": [
    "import torch"
   ]
  },
  {
   "cell_type": "code",
   "execution_count": 11,
   "id": "f2eccd2f-ad5d-4011-a642-ae68a9822ac0",
   "metadata": {},
   "outputs": [
    {
     "name": "stdout",
     "output_type": "stream",
     "text": [
      "0.7071066904050358\n",
      "---\n",
      "x1 grad -1.5000003851533106\n",
      "w1 grad 1.0000002567688737\n",
      "x2 grad 0.5000001283844369\n",
      "w2 grad 0.0\n"
     ]
    }
   ],
   "source": [
    "# Rebuild the following from micograd_from_scratch_8 in pytorch\n",
    "## A 2 dimensional neuron with Input x1 and x2\n",
    "#    x1 = Value(2.0, _label='x1')\n",
    "#    x2 = Value(0.0, _label='x2')\n",
    "#    # The Weights\n",
    "#    w1 = Value(-3.0, _label='w1')\n",
    "#    w2 = Value(1.0, _label='w2')\n",
    "#    # The Bias\n",
    "#    b = Value(6.8813735870195432, _label='b')\n",
    "\n",
    "x1 = torch.Tensor([2.0]).double(); x1.requires_grad = True\n",
    "x2 = torch.Tensor([0.0]).double(); x2.requires_grad = True\n",
    "w1 = torch.Tensor([-3.0]).double(); w1.requires_grad = True\n",
    "w2 = torch.Tensor([1.0]).double(); w2.requires_grad = True\n",
    "b = torch.Tensor([6.8813735870195432]).double();\n",
    "n = x1 * w1 + x2 * w2 + b\n",
    "o = torch.tanh(n)\n",
    "# o.data is still expected to give 0.7071\n",
    "print(o.data.item())\n",
    "print(\"---\")\n",
    "o.backward()\n",
    "# x1.grad is still expected to give -1.5\n",
    "print(\"x1 grad\", x1.grad.item())\n",
    "# w1.grad is still expected to give 1\n",
    "print(\"w1 grad\", w1.grad.item())\n",
    "# x2.grad is still expected to give 0.5\n",
    "print(\"x2 grad\", x2.grad.item())\n",
    "# w2.grad is still expected to give 0.0\n",
    "print(\"w2 grad\", w2.grad.item())"
   ]
  },
  {
   "cell_type": "code",
   "execution_count": null,
   "id": "324a77f1-2071-4194-920c-3acbed5a1b65",
   "metadata": {},
   "outputs": [],
   "source": []
  }
 ],
 "metadata": {
  "kernelspec": {
   "display_name": "Python 3 (ipykernel)",
   "language": "python",
   "name": "python3"
  },
  "language_info": {
   "codemirror_mode": {
    "name": "ipython",
    "version": 3
   },
   "file_extension": ".py",
   "mimetype": "text/x-python",
   "name": "python",
   "nbconvert_exporter": "python",
   "pygments_lexer": "ipython3",
   "version": "3.11.6"
  }
 },
 "nbformat": 4,
 "nbformat_minor": 5
}
